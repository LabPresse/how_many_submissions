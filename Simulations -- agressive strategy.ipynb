{
 "cells": [
  {
   "cell_type": "code",
   "execution_count": 1,
   "id": "f6f7e244",
   "metadata": {},
   "outputs": [],
   "source": [
    "from rev_lib import *\n",
    "import time\n",
    "from matplotlib import pyplot as plt"
   ]
  },
  {
   "cell_type": "code",
   "execution_count": 2,
   "id": "943a7e54",
   "metadata": {},
   "outputs": [],
   "source": [
    "gl = params(10,5,3,'c') #cynical model\n",
    "#gl = params(10,9,3,'c') #cynical with 9 friends\n",
    "#gl = params(10,5,3,'q') #quality model\n",
    "#gl = params(10,9,3,'q') #quality with 9 friends"
   ]
  },
  {
   "cell_type": "code",
   "execution_count": 3,
   "id": "5de27f04",
   "metadata": {},
   "outputs": [],
   "source": [
    "def sample_suggested(marg_pi,N=3):\n",
    "    marg = 1.0*marg_pi\n",
    "    l = []\n",
    "    for i in range(N):\n",
    "        #print(marg)\n",
    "        #print(normalize(marg))\n",
    "        sug_i = categorical(normalize(marg))\n",
    "        marg[sug_i] = 0\n",
    "        l.append(sug_i)\n",
    "    return np.sort(l)"
   ]
  },
  {
   "cell_type": "code",
   "execution_count": 4,
   "id": "aa9f1b1c",
   "metadata": {},
   "outputs": [],
   "source": [
    "pi = normalize(gl.prior)\n",
    "log_post = np.log(pi)\n",
    "marg_pi = np.dot(pi,gl.configs)\n",
    "c3 = third_more_likely(pi,gl)[0]\n",
    "\n",
    "suggested_list = []\n",
    "positives_list = []\n",
    "margs_list =[]\n",
    "c3_list=[]"
   ]
  },
  {
   "cell_type": "code",
   "execution_count": 5,
   "id": "caf40886",
   "metadata": {},
   "outputs": [],
   "source": [
    "def run_agressive_sim(gl):\n",
    "    pi = normalize(gl.prior)\n",
    "    log_post = np.log(pi)\n",
    "    marg_pi = np.dot(pi,gl.configs)\n",
    "    conf = third_more_likely(pi,gl)[0]\n",
    "\n",
    "    suggested_list = []\n",
    "    positives_list = []\n",
    "    margs_list =[]\n",
    "    conf_list=[]\n",
    "    err_list=[]\n",
    "\n",
    "    while(conf<.95):\n",
    "        suggested = sample_suggested(marg_pi,N=3)\n",
    "\n",
    "        if gl.model == 'c':\n",
    "            positives = run_simulation_cynical([suggested],gl.ground)[0]\n",
    "        elif gl.model == 'q':\n",
    "            Q = gl.run_qualities(suggested.shape[0])\n",
    "            positives = run_simulation_quality([suggested],Q,gl.ground)[0]\n",
    "\n",
    "        li = point_log_like(suggested,positives,gl.model,gl.configs,gl.p_beta)\n",
    "        log_post +=li\n",
    "        log_post -=log_post.max()\n",
    "\n",
    "        pi = normalize(np.exp(log_post))\n",
    "        marg_pi = np.dot(pi,gl.configs)\n",
    "        conf,prop_friends = third_more_likely(pi,gl)\n",
    "        c3err = gl.N_suggested - np.sum(gl.ground[prop_friends])\n",
    "\n",
    "        suggested_list.append(suggested)\n",
    "        positives_list.append(positives)\n",
    "        margs_list.append(marg_pi)\n",
    "        conf_list.append(conf)\n",
    "        err_list.append(c3err)\n",
    "\n",
    "    return suggested_list,positives_list,conf_list,margs_list,err_list,len(conf_list),c3err"
   ]
  },
  {
   "cell_type": "code",
   "execution_count": 6,
   "id": "e1d0c6c5",
   "metadata": {},
   "outputs": [],
   "source": [
    "seq_suggested = []\n",
    "seq_positives = []\n",
    "seq_conf = []\n",
    "seq_err = []\n",
    "\n",
    "seq_nums=[]\n",
    "\n",
    "for i in range(gl.S_slice[1]):\n",
    "    suggested,positives,conf,marg_pi,errs,p3num,p3err = run_agressive_sim(gl)\n",
    "    seq_suggested.append(suggested)\n",
    "    seq_positives.append(positives)\n",
    "    seq_conf.append(conf)\n",
    "    seq_err.append(errs)\n",
    "    seq_nums.append(p3num)\n",
    "    #print(p3num,p3err)\n"
   ]
  },
  {
   "cell_type": "code",
   "execution_count": 7,
   "id": "c324fa26",
   "metadata": {},
   "outputs": [],
   "source": [
    "suggested = np.vstack(seq_suggested)\n",
    "cols = ['suggestion_{}'.format(i) for i in range(1,suggested[0].size+1)]\n",
    "df = pd.DataFrame(suggested,columns=cols)\n",
    "\n",
    "df['positives'] = np.hstack(seq_positives)\n",
    "df['confidence'] = np.hstack(seq_conf)\n",
    "df['errors'] = np.hstack(seq_err)"
   ]
  },
  {
   "cell_type": "code",
   "execution_count": 8,
   "id": "41ef7bd0",
   "metadata": {},
   "outputs": [],
   "source": [
    "df2 = df[df['confidence'].to_numpy()>.95][['confidence','errors']]\n",
    "df2['number'] = np.array(seq_nums)\n",
    "df2 = df2[['number','confidence','errors']]"
   ]
  },
  {
   "cell_type": "code",
   "execution_count": 9,
   "id": "dcb6d772",
   "metadata": {},
   "outputs": [
    {
     "data": {
      "text/plain": [
       "True"
      ]
     },
     "execution_count": 9,
     "metadata": {},
     "output_type": "execute_result"
    }
   ],
   "source": [
    "#Sanity check\n",
    "np.all((df['confidence'].to_numpy()>.95)[np.cumsum(np.array(seq_nums))-1])"
   ]
  },
  {
   "cell_type": "code",
   "execution_count": 10,
   "id": "0ef872c7",
   "metadata": {},
   "outputs": [],
   "source": [
    "df.to_csv('sim_agressive_data_{}.csv'.format(gl.suffix),index=False)"
   ]
  },
  {
   "cell_type": "code",
   "execution_count": 11,
   "id": "2f81624d",
   "metadata": {},
   "outputs": [],
   "source": [
    "df2.to_csv('agressive_prob3_errors_{}.csv'.format(gl.suffix),index=False)"
   ]
  },
  {
   "cell_type": "code",
   "execution_count": null,
   "id": "f30afee5",
   "metadata": {},
   "outputs": [],
   "source": []
  }
 ],
 "metadata": {
  "kernelspec": {
   "display_name": "Python 3 (ipykernel)",
   "language": "python",
   "name": "python3"
  },
  "language_info": {
   "codemirror_mode": {
    "name": "ipython",
    "version": 3
   },
   "file_extension": ".py",
   "mimetype": "text/x-python",
   "name": "python",
   "nbconvert_exporter": "python",
   "pygments_lexer": "ipython3",
   "version": "3.9.12"
  }
 },
 "nbformat": 4,
 "nbformat_minor": 5
}
